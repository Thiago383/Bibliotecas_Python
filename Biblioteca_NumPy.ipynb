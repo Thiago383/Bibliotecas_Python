{
  "nbformat": 4,
  "nbformat_minor": 0,
  "metadata": {
    "colab": {
      "provenance": [],
      "authorship_tag": "ABX9TyM6OHIjmrlgBEEB+skmY5nz",
      "include_colab_link": true
    },
    "kernelspec": {
      "name": "python3",
      "display_name": "Python 3"
    },
    "language_info": {
      "name": "python"
    }
  },
  "cells": [
    {
      "cell_type": "markdown",
      "metadata": {
        "id": "view-in-github",
        "colab_type": "text"
      },
      "source": [
        "<a href=\"https://colab.research.google.com/github/Thiago383/Bibliotecas_Python/blob/main/Biblioteca_NumPy.ipynb\" target=\"_parent\"><img src=\"https://colab.research.google.com/assets/colab-badge.svg\" alt=\"Open In Colab\"/></a>"
      ]
    },
    {
      "cell_type": "markdown",
      "source": [
        "# 📦 Introdução ao NumPy\n",
        "\n",
        "**NumPy** (Numerical Python) é um pacote fundamental para computação numérica em Python. Ele oferece suporte para arrays multidimensionais e diversas funções matemáticas de alto desempenho. Criado para ser eficiente e escalável, é amplamente utilizado em:\n",
        "\n",
        "- Ciência de Dados\n",
        "- Inteligência Artificial\n",
        "- Engenharia\n",
        "- E outras áreas que envolvem grandes volumes de dados numéricos\n"
      ],
      "metadata": {
        "id": "jzNZygvz6oQm"
      }
    },
    {
      "cell_type": "code",
      "execution_count": null,
      "metadata": {
        "id": "aGAYLutj6goe"
      },
      "outputs": [],
      "source": [
        "# 📌 Importando o pacote\n",
        "import numpy as np"
      ]
    },
    {
      "cell_type": "markdown",
      "source": [
        "## ✅ Criando Vetores e Arrays"
      ],
      "metadata": {
        "id": "4tOYFnHP6tOd"
      }
    },
    {
      "cell_type": "code",
      "source": [
        "# Criando uma lista comum do Python\n",
        "minha_lista = [1, 2, 3]\n",
        "\n",
        "# Convertendo a lista em um array NumPy (vetor unidimensional)\n",
        "vetor = np.array(minha_lista)\n",
        "print(vetor)\n",
        "# Saída: array([1, 2, 3])"
      ],
      "metadata": {
        "id": "msXoiEEL6vIF"
      },
      "execution_count": null,
      "outputs": []
    },
    {
      "cell_type": "code",
      "source": [
        "# Criando uma matriz bidimensional\n",
        "minha_matriz = [[1, 2, 3], [4, 5, 6]]\n",
        "\n",
        "# Convertendo a lista de listas em uma matriz NumPy\n",
        "matriz = np.array(minha_matriz)\n",
        "print(matriz)\n",
        "# Saída:\n",
        "# array([[1, 2, 3],\n",
        "#        [4, 5, 6]])"
      ],
      "metadata": {
        "id": "FIuqEUGo6wCF"
      },
      "execution_count": null,
      "outputs": []
    },
    {
      "cell_type": "markdown",
      "source": [
        "## ✅ Somando elementos"
      ],
      "metadata": {
        "id": "OrS-7jbQ65mm"
      }
    },
    {
      "cell_type": "code",
      "source": [
        "# Soma simples usando a função nativa do Python\n",
        "soma_lista = sum(minha_lista)\n",
        "print(soma_lista)  # Saída: 6"
      ],
      "metadata": {
        "id": "9dO6khXN67c9"
      },
      "execution_count": null,
      "outputs": []
    },
    {
      "cell_type": "code",
      "source": [
        "# Tentando somar a matriz (vai gerar erro com sum())\n",
        "# sum(minha_matriz)  # ❌ Vai gerar erro!\n",
        "\n",
        "# Correto: usar NumPy para somar os elementos da matriz\n",
        "matriz_numpy = np.array(minha_matriz)\n",
        "soma_matriz = np.sum(matriz_numpy)\n",
        "print(soma_matriz)  # Saída: 21"
      ],
      "metadata": {
        "id": "eBjQCowO69al"
      },
      "execution_count": null,
      "outputs": []
    },
    {
      "cell_type": "markdown",
      "source": [
        "## ✅ Gerando arrays com intervalos (função `arange`)"
      ],
      "metadata": {
        "id": "dUYjYpu47LVN"
      }
    },
    {
      "cell_type": "code",
      "source": [
        "# Array de 0 até 9\n",
        "arr1 = np.arange(0, 10)\n",
        "print(arr1)\n",
        "# Saída: array([0, 1, 2, 3, 4, 5, 6, 7, 8, 9])"
      ],
      "metadata": {
        "id": "lUgj80D-7KM-"
      },
      "execution_count": null,
      "outputs": []
    },
    {
      "cell_type": "code",
      "source": [
        "# Array de 0 até 998, com passo de 2\n",
        "arr2 = np.arange(0, 1000, 2)\n",
        "print(arr2[:10])  # Exibindo os primeiros 10 elementos"
      ],
      "metadata": {
        "id": "ZGCUXQPB7Sm1"
      },
      "execution_count": null,
      "outputs": []
    },
    {
      "cell_type": "markdown",
      "source": [
        "## ✅ Arrays com valores iguais"
      ],
      "metadata": {
        "id": "Gp0gMdX_7WId"
      }
    },
    {
      "cell_type": "code",
      "source": [
        "# Matriz 3x5 preenchida com zeros\n",
        "zeros = np.zeros((3, 5))\n",
        "print(zeros)"
      ],
      "metadata": {
        "id": "kovljrWd7U6Z"
      },
      "execution_count": null,
      "outputs": []
    },
    {
      "cell_type": "code",
      "source": [
        "# Matriz 3x3x3 (tridimensional) preenchida com zeros\n",
        "zeros_3d = np.zeros((3, 3, 3))\n",
        "print(zeros_3d)"
      ],
      "metadata": {
        "id": "9WOm5JvQ7bdW"
      },
      "execution_count": null,
      "outputs": []
    },
    {
      "cell_type": "code",
      "source": [
        "# Matriz 3x5 preenchida com uns\n",
        "uns = np.ones((3, 5))\n",
        "print(uns)"
      ],
      "metadata": {
        "id": "8oL-F30X7eXd"
      },
      "execution_count": null,
      "outputs": []
    },
    {
      "cell_type": "code",
      "source": [
        "# Matriz 2x2 preenchida com valor específico (por exemplo: 7)\n",
        "sete = np.full((2, 2), 7)\n",
        "print(sete)"
      ],
      "metadata": {
        "id": "hwZBXH6o7hBF"
      },
      "execution_count": null,
      "outputs": []
    },
    {
      "cell_type": "markdown",
      "source": [
        "##  Dicas\n",
        "\n",
        "- `np.array()` → converte listas para arrays\n",
        "- `np.sum()` → soma os elementos do array\n",
        "- `np.arange(start, stop, step)` → cria sequência de números\n",
        "- `np.zeros(shape)` → array com zeros\n",
        "- `np.ones(shape)` → array com uns\n",
        "- `np.full(shape, value)` → array com valor específico"
      ],
      "metadata": {
        "id": "lRWi_C7K7kdu"
      }
    }
  ]
}