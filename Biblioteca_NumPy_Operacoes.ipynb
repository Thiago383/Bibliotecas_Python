{
  "nbformat": 4,
  "nbformat_minor": 0,
  "metadata": {
    "colab": {
      "provenance": [],
      "authorship_tag": "ABX9TyNWRRqr3rzJsWTFQufB1dlN",
      "include_colab_link": true
    },
    "kernelspec": {
      "name": "python3",
      "display_name": "Python 3"
    },
    "language_info": {
      "name": "python"
    }
  },
  "cells": [
    {
      "cell_type": "markdown",
      "metadata": {
        "id": "view-in-github",
        "colab_type": "text"
      },
      "source": [
        "<a href=\"https://colab.research.google.com/github/Thiago383/Bibliotecas_Python/blob/main/Biblioteca_NumPy_Operacoes.ipynb\" target=\"_parent\"><img src=\"https://colab.research.google.com/assets/colab-badge.svg\" alt=\"Open In Colab\"/></a>"
      ]
    },
    {
      "cell_type": "markdown",
      "source": [
        "# ➕ Operações com NumPy e Arrays\n",
        "\n",
        "Neste notebook vamos explorar **operações matemáticas básicas** utilizando arrays da biblioteca NumPy.\n"
      ],
      "metadata": {
        "id": "NYEmSJLBbEmM"
      }
    },
    {
      "cell_type": "markdown",
      "source": [
        "## ✅ Criação dos Arrays"
      ],
      "metadata": {
        "id": "2m0wRhIkbkpL"
      }
    },
    {
      "cell_type": "code",
      "source": [
        "# Cria array1 com valores de 0 a 90, de 10 em 10\n",
        "array1 = np.arange(0, 100, 10)\n",
        "\n",
        "# Cria array2 com valores de 0 a 45, de 5 em 5\n",
        "array2 = np.arange(0, 50, 5)"
      ],
      "metadata": {
        "id": "HgmL_cgNbnjV"
      },
      "execution_count": null,
      "outputs": []
    },
    {
      "cell_type": "markdown",
      "source": [
        "## ✅ Visualizando os Arrays"
      ],
      "metadata": {
        "id": "AMvFYWhQbqk7"
      }
    },
    {
      "cell_type": "code",
      "source": [
        "print(\"Array 1:\")\n",
        "print(array1)\n",
        "\n",
        "print(\"\\nArray 2:\")\n",
        "print(array2)"
      ],
      "metadata": {
        "colab": {
          "base_uri": "https://localhost:8080/"
        },
        "id": "OGJGDon0bsGL",
        "outputId": "faa2f027-581c-4b4c-fd58-13268fdcb4f3"
      },
      "execution_count": null,
      "outputs": [
        {
          "output_type": "stream",
          "name": "stdout",
          "text": [
            "Array 1:\n",
            "[ 0 10 20 30 40 50 60 70 80 90]\n",
            "\n",
            "Array 2:\n",
            "[ 0  5 10 15 20 25 30 35 40 45]\n"
          ]
        }
      ]
    },
    {
      "cell_type": "markdown",
      "source": [
        "## ✅ Operações Matemáticas com Arrays\n",
        "\n",
        "Lembre-se: para realizar operações entre arrays, eles precisam ter o mesmo tamanho."
      ],
      "metadata": {
        "id": "ytxAQFXfbwDk"
      }
    },
    {
      "cell_type": "code",
      "source": [
        "# Soma dos elementos\n",
        "print(\"Soma:\")\n",
        "print(array1 + array2)\n",
        "\n",
        "# Subtração dos elementos\n",
        "print(\"\\nSubtração:\")\n",
        "print(array1 - array2)\n",
        "\n",
        "# Multiplicação dos elementos\n",
        "print(\"\\nMultiplicação:\")\n",
        "print(array1 * array2)\n",
        "\n",
        "# Divisão dos elementos\n",
        "print(\"\\nDivisão:\")\n",
        "print(array1 / array2)"
      ],
      "metadata": {
        "colab": {
          "base_uri": "https://localhost:8080/"
        },
        "id": "31sR8Yzfb1dz",
        "outputId": "689299b4-24ef-47d7-f5fc-6b47a3664c3f"
      },
      "execution_count": null,
      "outputs": [
        {
          "output_type": "stream",
          "name": "stdout",
          "text": [
            "Soma:\n",
            "[  0  15  30  45  60  75  90 105 120 135]\n",
            "\n",
            "Subtração:\n",
            "[ 0  5 10 15 20 25 30 35 40 45]\n",
            "\n",
            "Multiplicação:\n",
            "[   0   50  200  450  800 1250 1800 2450 3200 4050]\n",
            "\n",
            "Divisão:\n",
            "[nan  2.  2.  2.  2.  2.  2.  2.  2.  2.]\n"
          ]
        },
        {
          "output_type": "stream",
          "name": "stderr",
          "text": [
            "<ipython-input-25-b45a4b7ead59>:15: RuntimeWarning: invalid value encountered in divide\n",
            "  print(array1 / array2)\n"
          ]
        }
      ]
    }
  ]
}