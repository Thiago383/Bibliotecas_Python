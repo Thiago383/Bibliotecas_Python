{
  "nbformat": 4,
  "nbformat_minor": 0,
  "metadata": {
    "colab": {
      "provenance": [],
      "collapsed_sections": [
        "bhjqW1UuWnIS",
        "dsfsilk-XYJa",
        "-Oxs4Tj3Xcla",
        "Fdp9yiwmX92i",
        "GtSQqHLGYH_C",
        "m85H2SC-Ys0T",
        "95RIcGH9Y6IK"
      ],
      "toc_visible": true,
      "authorship_tag": "ABX9TyMa4OfEFd6ZJJuCerzRJUKN",
      "include_colab_link": true
    },
    "kernelspec": {
      "name": "python3",
      "display_name": "Python 3"
    },
    "language_info": {
      "name": "python"
    }
  },
  "cells": [
    {
      "cell_type": "markdown",
      "metadata": {
        "id": "view-in-github",
        "colab_type": "text"
      },
      "source": [
        "<a href=\"https://colab.research.google.com/github/Thiago383/Bibliotecas_Python/blob/main/Biblioteca_NumPy_Indexacao.ipynb\" target=\"_parent\"><img src=\"https://colab.research.google.com/assets/colab-badge.svg\" alt=\"Open In Colab\"/></a>"
      ]
    },
    {
      "cell_type": "markdown",
      "source": [
        "# 🔎 Indexação e Fatiamento de Arrays com NumPy\n",
        "\n",
        "Este notebook mostra como realizar operações de **indexação, fatiamento e comparações lógicas** em arrays NumPy de 1 e 2 dimensões.\n",
        "\n"
      ],
      "metadata": {
        "id": "mIVh8o8wWQaK"
      }
    },
    {
      "cell_type": "markdown",
      "source": [
        "## ✅ Indexação de Arrays 1D\n",
        "Vamos criar um array de 1 dimensão com valores de 0 a 30, de 3 em 3:"
      ],
      "metadata": {
        "id": "bhjqW1UuWnIS"
      }
    },
    {
      "cell_type": "code",
      "source": [
        "array = np.arange(0, 30, 3)\n",
        "print(array)"
      ],
      "metadata": {
        "id": "mBfyje9Ad8gr"
      },
      "execution_count": null,
      "outputs": []
    },
    {
      "cell_type": "markdown",
      "source": [
        "## ✅ Acessando posições específicas"
      ],
      "metadata": {
        "id": "WZIl7nWwXIli"
      }
    },
    {
      "cell_type": "code",
      "source": [
        "# Acessa o elemento na posição 3\n",
        "array[3]\n",
        "\n",
        "# Acessa da posição 0 até a 2 (exclui a 2)\n",
        "array[0:2]\n",
        "\n",
        "# Acessa da primeira posição até a 5 (exclui a 5)\n",
        "array[:5]\n",
        "\n",
        "# Acessa da posição 2 até o final\n",
        "array[2:]\n",
        "\n",
        "# Acessa posições específicas: 0 e 5\n",
        "array[[0, 5]]"
      ],
      "metadata": {
        "colab": {
          "base_uri": "https://localhost:8080/"
        },
        "id": "dV7zqdXYXT4i",
        "outputId": "dec6f448-bc2a-420c-f2d7-89b9af42eb9a"
      },
      "execution_count": null,
      "outputs": [
        {
          "output_type": "execute_result",
          "data": {
            "text/plain": [
              "array([ 0, 15])"
            ]
          },
          "metadata": {},
          "execution_count": 13
        }
      ]
    },
    {
      "cell_type": "markdown",
      "source": [
        "## ✅ Modificando valores"
      ],
      "metadata": {
        "id": "dsfsilk-XYJa"
      }
    },
    {
      "cell_type": "code",
      "source": [
        "# Substitui os valores da posição 5 até o final por 100\n",
        "array[5:] = 100\n",
        "\n",
        "# Mostra o array modificado\n",
        "print(array)"
      ],
      "metadata": {
        "colab": {
          "base_uri": "https://localhost:8080/"
        },
        "id": "v89CnMssXbbS",
        "outputId": "9c46b65d-b3f3-41f7-9882-b4e2191b271a"
      },
      "execution_count": null,
      "outputs": [
        {
          "output_type": "stream",
          "name": "stdout",
          "text": [
            "[  0   3   6   9  12 100 100 100 100 100]\n"
          ]
        }
      ]
    },
    {
      "cell_type": "markdown",
      "source": [
        "## ✅ Indexação de Arrays 2D\n",
        "\n",
        "Vamos criar uma matriz 5x10 com valores de 0 a 49:"
      ],
      "metadata": {
        "id": "-Oxs4Tj3Xcla"
      }
    },
    {
      "cell_type": "code",
      "source": [
        "array_2d = np.arange(50).reshape(5, 10)\n",
        "print(array_2d)"
      ],
      "metadata": {
        "colab": {
          "base_uri": "https://localhost:8080/"
        },
        "id": "tRJ2HC1PXoQq",
        "outputId": "a170fd7e-a6ac-4d4b-95e2-c4548e896f16"
      },
      "execution_count": null,
      "outputs": [
        {
          "output_type": "stream",
          "name": "stdout",
          "text": [
            "[[ 0  1  2  3  4  5  6  7  8  9]\n",
            " [10 11 12 13 14 15 16 17 18 19]\n",
            " [20 21 22 23 24 25 26 27 28 29]\n",
            " [30 31 32 33 34 35 36 37 38 39]\n",
            " [40 41 42 43 44 45 46 47 48 49]]\n"
          ]
        }
      ]
    },
    {
      "cell_type": "markdown",
      "source": [
        "## ✅ Fatiando matrizes"
      ],
      "metadata": {
        "id": "Fdp9yiwmX92i"
      }
    },
    {
      "cell_type": "code",
      "source": [
        "# Linhas de 0 a 2 (exclui a linha 3)\n",
        "array_2d[0:3]\n",
        "\n",
        "# Linhas de 0 a 2, colunas de 0 a 2\n",
        "array_2d[0:3, 0:3]\n",
        "\n",
        "# Linhas de 0 a 2, colunas de 4 até o fim\n",
        "array_2d[0:3, 4:]"
      ],
      "metadata": {
        "colab": {
          "base_uri": "https://localhost:8080/"
        },
        "id": "FmPRtvlPYGa6",
        "outputId": "e1d37ad9-f05e-4262-ea89-f178199a7f37"
      },
      "execution_count": null,
      "outputs": [
        {
          "output_type": "execute_result",
          "data": {
            "text/plain": [
              "array([[ 4,  5,  6,  7,  8,  9],\n",
              "       [14, 15, 16, 17, 18, 19],\n",
              "       [24, 25, 26, 27, 28, 29]])"
            ]
          },
          "metadata": {},
          "execution_count": 16
        }
      ]
    },
    {
      "cell_type": "markdown",
      "source": [
        "## ✅ Comparações Lógicas com Arrays"
      ],
      "metadata": {
        "id": "GtSQqHLGYH_C"
      }
    },
    {
      "cell_type": "code",
      "source": [
        "# Mostra o array\n",
        "print(array_2d)"
      ],
      "metadata": {
        "colab": {
          "base_uri": "https://localhost:8080/"
        },
        "id": "JylLVO3aYNEy",
        "outputId": "a96f4ca0-698c-40cf-8ad4-464037d1c6f8"
      },
      "execution_count": null,
      "outputs": [
        {
          "output_type": "stream",
          "name": "stdout",
          "text": [
            "[[ 0  1  2  3  4  5  6  7  8  9]\n",
            " [10 11 12 13 14 15 16 17 18 19]\n",
            " [20 21 22 23 24 25 26 27 28 29]\n",
            " [30 31 32 33 34 35 36 37 38 39]\n",
            " [40 41 42 43 44 45 46 47 48 49]]\n"
          ]
        }
      ]
    },
    {
      "cell_type": "markdown",
      "source": [
        "## ✅ Verificando condição simples"
      ],
      "metadata": {
        "id": "m85H2SC-Ys0T"
      }
    },
    {
      "cell_type": "code",
      "source": [
        "# Retorna uma matriz booleana onde o valor é maior que 20\n",
        "array_2d > 20"
      ],
      "metadata": {
        "colab": {
          "base_uri": "https://localhost:8080/"
        },
        "id": "I_V4PAb1YsU6",
        "outputId": "cd4ee84c-3c7e-4ed1-9360-ed538a53573d"
      },
      "execution_count": null,
      "outputs": [
        {
          "output_type": "execute_result",
          "data": {
            "text/plain": [
              "array([[False, False, False, False, False, False, False, False, False,\n",
              "        False],\n",
              "       [False, False, False, False, False, False, False, False, False,\n",
              "        False],\n",
              "       [False,  True,  True,  True,  True,  True,  True,  True,  True,\n",
              "         True],\n",
              "       [ True,  True,  True,  True,  True,  True,  True,  True,  True,\n",
              "         True],\n",
              "       [ True,  True,  True,  True,  True,  True,  True,  True,  True,\n",
              "         True]])"
            ]
          },
          "metadata": {},
          "execution_count": 18
        }
      ]
    },
    {
      "cell_type": "code",
      "source": [
        "# Armazena a condição em uma variável\n",
        "boleano = array_2d > 20\n",
        "\n",
        "# Filtra os valores com base na condição\n",
        "array_2d[boleano]"
      ],
      "metadata": {
        "colab": {
          "base_uri": "https://localhost:8080/"
        },
        "id": "iXB0x1MCY3gS",
        "outputId": "822e9e05-f9ff-4ffe-b8b7-5c7fc6dfe868"
      },
      "execution_count": null,
      "outputs": [
        {
          "output_type": "execute_result",
          "data": {
            "text/plain": [
              "array([21, 22, 23, 24, 25, 26, 27, 28, 29, 30, 31, 32, 33, 34, 35, 36, 37,\n",
              "       38, 39, 40, 41, 42, 43, 44, 45, 46, 47, 48, 49])"
            ]
          },
          "metadata": {},
          "execution_count": 19
        }
      ]
    },
    {
      "cell_type": "markdown",
      "source": [
        "## ✅ Usando múltiplas condições"
      ],
      "metadata": {
        "id": "95RIcGH9Y6IK"
      }
    },
    {
      "cell_type": "code",
      "source": [
        "# Verifica se os valores estão entre 20 e 30\n",
        "np.logical_and(array_2d >= 20, array_2d <= 30)"
      ],
      "metadata": {
        "colab": {
          "base_uri": "https://localhost:8080/"
        },
        "id": "DFg0teVbY-jr",
        "outputId": "79493405-679f-4e8a-f9b0-22836d0ec310"
      },
      "execution_count": null,
      "outputs": [
        {
          "output_type": "execute_result",
          "data": {
            "text/plain": [
              "array([[False, False, False, False, False, False, False, False, False,\n",
              "        False],\n",
              "       [False, False, False, False, False, False, False, False, False,\n",
              "        False],\n",
              "       [ True,  True,  True,  True,  True,  True,  True,  True,  True,\n",
              "         True],\n",
              "       [ True, False, False, False, False, False, False, False, False,\n",
              "        False],\n",
              "       [False, False, False, False, False, False, False, False, False,\n",
              "        False]])"
            ]
          },
          "metadata": {},
          "execution_count": 20
        }
      ]
    },
    {
      "cell_type": "code",
      "source": [
        "# Armazena o resultado da comparação\n",
        "boleano_01 = np.logical_and(array_2d >= 20, array_2d <= 30)\n",
        "\n",
        "# Filtra os valores com base nas condições compostas\n",
        "array_2d[boleano_01]"
      ],
      "metadata": {
        "id": "WR76IMpZfhX7"
      },
      "execution_count": null,
      "outputs": []
    }
  ]
}